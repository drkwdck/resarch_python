{
 "cells": [
  {
   "cell_type": "markdown",
   "metadata": {},
   "source": [
    "# Градиентный бустинг своими руками\n",
    "\n",
    "Здесь будет использоваться датасет `boston` из `sklearn.datasets`. Оставим последние 25% объектов для контроля качества, разделив `X` и `y` на `X_train`, `y_train` и `X_test`, `y_test`.\n",
    "\n",
    "Целью будет реализация простого варианта градиентного бустинга над регрессионными деревьями для случая квадратичной функции потерь."
   ]
  },
  {
   "cell_type": "code",
   "execution_count": 1,
   "metadata": {},
   "outputs": [],
   "source": [
    "from sklearn.model_selection import train_test_split\n",
    "from sklearn.datasets import load_boston\n",
    "\n",
    "raw_data = load_boston()\n",
    "X = raw_data.data\n",
    "y = raw_data.target"
   ]
  },
  {
   "cell_type": "code",
   "execution_count": 2,
   "metadata": {},
   "outputs": [],
   "source": [
    "X_train = X[:int(X.shape[0] * 0.75)]\n",
    "y_train = y[:int(y.shape[0] * 0.75)]\n",
    "X_test  = X[int(X.shape[0] * 0.75):]\n",
    "y_test  = y[int(y.shape[0] * 0.75):] "
   ]
  },
  {
   "cell_type": "markdown",
   "metadata": {},
   "source": [
    "##  Подготовка к градиентному бустингу\n",
    "\n",
    "Градиентный бустинг обучает каждый новый алгоритм так, чтобы он приближал антиградиент ошибки по ответам композиции на обучающей выборке. Аналогично минимизации функций методом градиентного спуска, в градиентном бустинге мы подправляем композицию, изменяя алгоритм в направлении антиградиента ошибки.\n",
    "\n",
    "Найдём функцию задающую ответы на обучающей выборке, на которые нужно обучать новый алгоритм, если функция потерь `L` - квадрат отклонения ответа композиции `a(x)` от правильного ответа `y` на данном `x`."
   ]
  },
  {
   "cell_type": "code",
   "execution_count": 3,
   "metadata": {},
   "outputs": [],
   "source": [
    "def L(x, y):\n",
    "    return y - x"
   ]
  },
  {
   "cell_type": "markdown",
   "metadata": {},
   "source": [
    "## Градиентный бустинг на 50 деревьях\n",
    "\n",
    "В качестве базовых алгоритмов будем использовать 50 `DecisionTreeRegressor`. Заведём массив для деревьев и коэффициентов перед ними.\n",
    "\n",
    "Попробуем выставить значения коэффициентов равными 0.9.\n",
    "\n",
    "Оценим ошибку с помощью `RMSE`."
   ]
  },
  {
   "cell_type": "code",
   "execution_count": 4,
   "metadata": {},
   "outputs": [],
   "source": [
    "from sklearn.tree import DecisionTreeRegressor\n",
    "from sklearn.metrics import mean_squared_error\n",
    "import numpy as np"
   ]
  },
  {
   "cell_type": "code",
   "execution_count": 5,
   "metadata": {},
   "outputs": [],
   "source": [
    "def gbm_predict(X):\n",
    "    return [sum([coeff * algo.predict([x])[0] for algo, coeff \n",
    "                 in zip(base_algorithms_list, coefficients_list)]) for x in X]\n",
    "\n",
    "def RMSE(target, predict):\n",
    "    return np.sqrt(mean_squared_error(target, predict))"
   ]
  },
  {
   "cell_type": "code",
   "execution_count": 6,
   "metadata": {},
   "outputs": [],
   "source": [
    "base_algorithms_list = []\n",
    "coefficients_list = []\n",
    "y_on_current_iteration = np.array(y_train)\n",
    "\n",
    "for i in range(50):\n",
    "    regressor = DecisionTreeRegressor(max_depth=5, random_state=42).fit(X_train, y_on_current_iteration)\n",
    "    base_algorithms_list.append(regressor)\n",
    "    coefficients_list.append(0.9)\n",
    "    \n",
    "    y_on_current_iteration = L(gbm_predict(X_train), y_train)"
   ]
  },
  {
   "cell_type": "code",
   "execution_count": 7,
   "metadata": {},
   "outputs": [
    {
     "name": "stdout",
     "output_type": "stream",
     "text": [
      "5.455623403859612\n"
     ]
    }
   ],
   "source": [
    "print(RMSE(y_test, gbm_predict(X_test)))"
   ]
  },
  {
   "cell_type": "markdown",
   "metadata": {},
   "source": [
    "### Оптимизируем шаг\n",
    "Чтобы не перепрыгивать минимум, будем уменшать веса на каждом шаге в `1 / (1.0 + i)` раз"
   ]
  },
  {
   "cell_type": "code",
   "execution_count": 8,
   "metadata": {},
   "outputs": [],
   "source": [
    "base_algorithms_list = []\n",
    "coefficients_list = []\n",
    "y_on_current_iteration = np.array(y_train)\n",
    "\n",
    "for i in range(50):\n",
    "    regressor = DecisionTreeRegressor(max_depth=5, random_state=42).fit(X_train, y_on_current_iteration)\n",
    "    base_algorithms_list.append(regressor)\n",
    "    coefficients_list.append(0.9 / (1.0 + i))\n",
    "    \n",
    "    y_on_current_iteration = L(gbm_predict(X_train), y_train)"
   ]
  },
  {
   "cell_type": "code",
   "execution_count": 9,
   "metadata": {},
   "outputs": [
    {
     "name": "stdout",
     "output_type": "stream",
     "text": [
      "4.812550945781193\n"
     ]
    }
   ],
   "source": [
    "print(RMSE(y_test, gbm_predict(X_test)))"
   ]
  },
  {
   "cell_type": "markdown",
   "metadata": {},
   "source": [
    "## Готовые решения\n",
    "Импортируем библиотеку `xgboost`. Посмотрим, как ведёт себя градиентный бустинг при росте числа итераций, глубины деревьев."
   ]
  },
  {
   "cell_type": "code",
   "execution_count": 10,
   "metadata": {},
   "outputs": [],
   "source": [
    "import xgboost as xgb\n",
    "import matplotlib.pyplot as plt"
   ]
  },
  {
   "cell_type": "markdown",
   "metadata": {},
   "source": [
    "Посмотрим, как влияет количество деревьев на качество модели."
   ]
  },
  {
   "cell_type": "code",
   "execution_count": 11,
   "metadata": {},
   "outputs": [],
   "source": [
    "errors_on_test = []\n",
    "errors_on_train = []\n",
    "\n",
    "for i in range(50):\n",
    "    regressor = xgb.XGBRegressor(n_estimators=i, n_jobs=4, random_state=42, max_depth=5, eval_metric='rmse')\n",
    "    regressor.fit(X_train, y_train)\n",
    "    predict = regressor.predict(X_test)\n",
    "    errors_on_test.append(RMSE(y_test, predict))\n",
    "    predict = regressor.predict(X_train)\n",
    "    errors_on_train.append(RMSE(y_train, predict))"
   ]
  },
  {
   "cell_type": "code",
   "execution_count": 12,
   "metadata": {},
   "outputs": [
    {
     "data": {
      "text/plain": [
       "<matplotlib.legend.Legend at 0x7f2697e36820>"
      ]
     },
     "execution_count": 12,
     "metadata": {},
     "output_type": "execute_result"
    },
    {
     "data": {
      "image/png": "[encoded data removed]",
      "text/plain": [
       "<Figure size 432x288 with 1 Axes>"
      ]
     },
     "metadata": {
      "needs_background": "light"
     },
     "output_type": "display_data"
    }
   ],
   "source": [
    "plt.plot(range(50), errors_on_train, label='train')\n",
    "plt.plot(range(50), errors_on_test, label='test')\n",
    "plt.xlabel('n_trees')\n",
    "plt.ylabel('RMSE')\n",
    "plt.legend()"
   ]
  },
  {
   "cell_type": "markdown",
   "metadata": {},
   "source": [
    "С увеличением числа деревьев, начиная с некоторого момента (примерно на 5 итерации), градиентный бустинг начинает переобучаться."
   ]
  },
  {
   "cell_type": "markdown",
   "metadata": {},
   "source": [
    "Посмотрим, как влияет глубина деревьев на качество модели."
   ]
  },
  {
   "cell_type": "code",
   "execution_count": 13,
   "metadata": {},
   "outputs": [],
   "source": [
    "errors_on_test = []\n",
    "errors_on_train = []\n",
    "\n",
    "for i in range(50):\n",
    "    regressor = xgb.XGBRegressor(n_estimators=100, n_jobs=4, random_state=42, max_depth=i, eval_metric='rmse')\n",
    "    regressor.fit(X_train, y_train)\n",
    "    predict = regressor.predict(X_test)\n",
    "    errors_on_test.append(RMSE(y_test, predict))\n",
    "    predict = regressor.predict(X_train)\n",
    "    errors_on_train.append(RMSE(y_train, predict))"
   ]
  },
  {
   "cell_type": "code",
   "execution_count": 14,
   "metadata": {},
   "outputs": [
    {
     "data": {
      "text/plain": [
       "<matplotlib.legend.Legend at 0x7f2697e53ee0>"
      ]
     },
     "execution_count": 14,
     "metadata": {},
     "output_type": "execute_result"
    },
    {
     "data": {
      "image/png": "[encoded data removed]",
      "text/plain": [
       "<Figure size 432x288 with 1 Axes>"
      ]
     },
     "metadata": {
      "needs_background": "light"
     },
     "output_type": "display_data"
    }
   ],
   "source": [
    "plt.plot(range(50), errors_on_train, label='train')\n",
    "plt.plot(range(50), errors_on_test, label='test')\n",
    "plt.xlabel('max_depth')\n",
    "plt.ylabel('RMSE')\n",
    "plt.legend()"
   ]
  },
  {
   "cell_type": "markdown",
   "metadata": {},
   "source": [
    "С ростом глубины деревьев, начиная с некоторого момента (примерно с 4 итерации), качество работы градиентного бустинга на тестовой выборке начинает ухудшаться."
   ]
  },
  {
   "cell_type": "markdown",
   "metadata": {},
   "source": [
    "## Линейная регрессия или градиентный бустинг?\n",
    "\n",
    "Сравним получаемое с помощью градиентного бустинга качество с качеством работы линейной регрессии `LinearRegression` из `sklearn.linear_model` на наших данных."
   ]
  },
  {
   "cell_type": "code",
   "execution_count": 15,
   "metadata": {},
   "outputs": [
    {
     "name": "stdout",
     "output_type": "stream",
     "text": [
      "8.254979753549161\n"
     ]
    }
   ],
   "source": [
    "from sklearn.linear_model import LinearRegression\n",
    "\n",
    "regressor = LinearRegression()\n",
    "regressor.fit(X_train, y_train)\n",
    "predict = regressor.predict(X_test)\n",
    "print(RMSE(y_test, predict))"
   ]
  },
  {
   "cell_type": "markdown",
   "metadata": {},
   "source": [
    "Видно, что градиентный бустинг над решающими деревьями справился лучше, чем линейная регрессия. Но нельзя утдверждать, что это общий результат. Скорее всего всё зависит от выборки."
   ]
  }
 ],
 "metadata": {
  "kernelspec": {
   "display_name": "Python 3",
   "language": "python",
   "name": "python3"
  },
  "language_info": {
   "codemirror_mode": {
    "name": "ipython",
    "version": 3
   },
   "file_extension": ".py",
   "mimetype": "text/x-python",
   "name": "python",
   "nbconvert_exporter": "python",
   "pygments_lexer": "ipython3",
   "version": "3.8.3"
  }
 },
 "nbformat": 4,
 "nbformat_minor": 1
}
